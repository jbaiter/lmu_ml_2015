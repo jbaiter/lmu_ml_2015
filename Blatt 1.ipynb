{
 "metadata": {
  "name": "",
  "signature": "sha256:703582cf6564e8eed1d4eeadcd16f89f0ab803d1123f46d473ee9431198181f5"
 },
 "nbformat": 3,
 "nbformat_minor": 0,
 "worksheets": [
  {
   "cells": [
    {
     "cell_type": "heading",
     "level": 4,
     "metadata": {},
     "source": [
      "Setup"
     ]
    },
    {
     "cell_type": "code",
     "collapsed": false,
     "input": [
      "import itertools\n",
      "import random\n",
      "\n",
      "import numpy as np"
     ],
     "language": "python",
     "metadata": {
      "run_control": {
       "breakpoint": false
      }
     },
     "outputs": [],
     "prompt_number": 9
    },
    {
     "cell_type": "code",
     "collapsed": false,
     "input": [
      "patterns = [np.matrix([[x], [y]]) for x, y in [(2,4), (1,0.5), (0.5,1.5), (0,0.5)]]\n",
      "labels = [1, 1, -1, -1]"
     ],
     "language": "python",
     "metadata": {
      "run_control": {
       "breakpoint": false
      }
     },
     "outputs": [],
     "prompt_number": 10
    },
    {
     "cell_type": "code",
     "collapsed": false,
     "input": [
      "def get_shuffled(labels, patterns):\n",
      "    zipped = list(zip(labels, patterns))\n",
      "    random.shuffle(zipped)\n",
      "    labels_shuf, patterns_shuf = list(zip(*zipped))\n",
      "    return labels_shuf, patterns_shuf"
     ],
     "language": "python",
     "metadata": {
      "run_control": {
       "breakpoint": false
      }
     },
     "outputs": [],
     "prompt_number": 11
    },
    {
     "cell_type": "heading",
     "level": 4,
     "metadata": {},
     "source": [
      "a) How many iterations are required by the pattern-based perceptron learning rule in order to seperate classes\n",
      "A and B correctly if the weight vector w is initialized as (0, 1, \u22121) and step size \u03b7 is set to 0.1?"
     ]
    },
    {
     "cell_type": "code",
     "collapsed": false,
     "input": [
      "class Perceptron:\n",
      "    def __init__(self, initial_weights):\n",
      "        self._initial_weights = initial_weights\n",
      "        self.weights = initial_weights[:]\n",
      "        \n",
      "    def _add_bias(self, data):\n",
      "        return np.vstack([[1], data])\n",
      "    \n",
      "    def reset(self):\n",
      "        self.weights = self._initial_weights[:]\n",
      "        \n",
      "    def predict(self, data):\n",
      "        if len(self.weights) - len(data) == 1:\n",
      "            data = self._add_bias(data)\n",
      "        return np.sign(sum(w*data[j] for j, w in enumerate(self.weights)))\n",
      "    \n",
      "    def fit(self, data, classes, learn_rate, max_iterations):\n",
      "        raise NotImplemented()\n",
      "    \n",
      "    \n",
      "class PatternPerceptron(Perceptron):\n",
      "    def fit(self, data, classes, learn_rate=0.1, max_iterations=100):\n",
      "        # Add bias to data\n",
      "        data = [np.vstack([[1], d]) for d in data]\n",
      "        def has_converged():\n",
      "            return all(self.predict(x) == y\n",
      "                                    for x, y in zip(data, classes))\n",
      "        iterations = 0\n",
      "        while iterations < max_iterations and not has_converged():\n",
      "            iterations += 1\n",
      "            # Error is here, we must not take *all* data into account, but merely a single one\n",
      "            # that we pick sequentially\n",
      "            # => Sample-based learning!\n",
      "            currently_misclassified = [(x, y) for x, y in zip(data, classes)\n",
      "                                       if self.predict(x) != y]\n",
      "            for j in range(len(self.weights)):\n",
      "                increase = learn_rate * sum(y*x[j] for x, y in currently_misclassified)\n",
      "                self.weights[j] += increase\n",
      "        if not has_converged():\n",
      "            raise Exception(\"Did not converge after {} iterations\"\n",
      "                            .format(iterations))\n",
      "        return iterations"
     ],
     "language": "python",
     "metadata": {
      "run_control": {
       "breakpoint": false
      }
     },
     "outputs": [],
     "prompt_number": 12
    },
    {
     "cell_type": "code",
     "collapsed": false,
     "input": [
      "p = PatternPerceptron(initial_weights=[0, 1, -1])\n",
      "print(\"Answer: {} iterations are required.\".format(\n",
      "    p.fit(patterns, labels, learn_rate=0.1, max_iterations=100)))"
     ],
     "language": "python",
     "metadata": {
      "run_control": {
       "breakpoint": false
      }
     },
     "outputs": [
      {
       "output_type": "stream",
       "stream": "stdout",
       "text": [
        "Answer: 1 iterations are required.\n"
       ]
      }
     ],
     "prompt_number": 13
    },
    {
     "cell_type": "markdown",
     "metadata": {},
     "source": [
      "CORRECT"
     ]
    },
    {
     "cell_type": "heading",
     "level": 4,
     "metadata": {},
     "source": [
      "b) How many iterations are required if \u03b7 = 0.25?\n",
      "   Is the order of the considered patterns relevant? If so, give\n",
      "an example, otherwise, prove it."
     ]
    },
    {
     "cell_type": "code",
     "collapsed": false,
     "input": [
      "p.reset()\n",
      "print(\"Answer: {} iterations are required with \u03b7 = 0.25.\".format(\n",
      "    p.fit(patterns, labels, learn_rate=0.25, max_iterations=100)))\n",
      "\n",
      "randomized_iters = []\n",
      "for _ in range(100):\n",
      "    p.reset()\n",
      "    labels_shuf, patterns_shuf = get_shuffled(labels, patterns)\n",
      "    randomized_iters.append(\n",
      "        p.fit(patterns_shuf, labels_shuf, learn_rate=0.25,\n",
      "              max_iterations=100))\n",
      "print(\"Answer: With the patterns in shuffled order, we needed {} iterations, so \"\n",
      "      \"the order does not seem to be relevant.\".format(set(randomized_iters)))"
     ],
     "language": "python",
     "metadata": {
      "run_control": {
       "breakpoint": false
      }
     },
     "outputs": [
      {
       "output_type": "stream",
       "stream": "stdout",
       "text": [
        "Answer: 2 iterations are required with \u03b7 = 0.25.\n",
        "Answer: With the patterns in shuffled order, we needed {2} iterations, so the order does not seem to be relevant."
       ]
      },
      {
       "output_type": "stream",
       "stream": "stdout",
       "text": [
        "\n"
       ]
      }
     ],
     "prompt_number": 14
    },
    {
     "cell_type": "markdown",
     "metadata": {},
     "source": [
      "NOT CORRECT -> Should be 6 iterations\n",
      "NOT CORRECT -> Does matter\n",
      "??? How to prove that this must be the case ???"
     ]
    },
    {
     "cell_type": "heading",
     "level": 4,
     "metadata": {},
     "source": [
      "c) After how many iterations does the gradient-based learning rule terminate for both \u03b7? In this case: Is the\n",
      "order of the considered patterns relevant?"
     ]
    },
    {
     "cell_type": "code",
     "collapsed": false,
     "input": [
      "class GradientPerceptron(Perceptron):\n",
      "    def fit(self, data, classes, learn_rate=0.1, max_iterations=100):\n",
      "        # Add bias to data\n",
      "        data = [np.vstack([[1], d]) for d in data]\n",
      "        has_converged = lambda: all(self.predict(x) == y\n",
      "                                    for x, y in zip(data, classes))\n",
      "        iterations = 0\n",
      "        while iterations < max_iterations and not has_converged():\n",
      "            iterations += 1\n",
      "            # ERROR: According to the solution, we should go over *all* misclassified patterns??\n",
      "            i = np.random.randint(len(data))\n",
      "            # We only want to select misclassified patterns\n",
      "            if classes[i] == self.predict(data[i]):\n",
      "                continue\n",
      "            for j in range(len(self.weights)):\n",
      "                increase = learn_rate * classes[i] * data[i][j]\n",
      "                self.weights[j] += increase\n",
      "        if not has_converged():\n",
      "            raise Exception(\"Did not converge after {} iterations\"\n",
      "                            .format(iterations))\n",
      "        return iterations"
     ],
     "language": "python",
     "metadata": {
      "run_control": {
       "breakpoint": false
      }
     },
     "outputs": [],
     "prompt_number": 15
    },
    {
     "cell_type": "code",
     "collapsed": false,
     "input": [
      "gp = GradientPerceptron(initial_weights=[0, 1, -1])\n",
      "for rate in (0.1, 0.25):\n",
      "    gp.reset()\n",
      "    gp.fit(patterns, labels, learn_rate=rate, max_iterations=100)\n",
      "    print(\"Answer: With a rate of {}, gradient-based learning terminates.\".format(rate))\n",
      "\n",
      "for rate in (0.1, 0.25):\n",
      "    for _ in range(100):\n",
      "        gp.reset()\n",
      "        labels_shuf, patterns_shuf = get_shuffled(labels, patterns)\n",
      "        gp.fit(patterns_shuf, labels_shuf, learn_rate=0.1,\n",
      "              max_iterations=100)\n",
      "    print(\"With a rate of {} and shuffled data and labels it seems to terminate as well.\".format(rate))\n"
     ],
     "language": "python",
     "metadata": {
      "run_control": {
       "breakpoint": false
      }
     },
     "outputs": [
      {
       "output_type": "stream",
       "stream": "stdout",
       "text": [
        "Answer: With a rate of 0.1, gradient-based learning terminates.\n",
        "Answer: With a rate of 0.25, gradient-based learning terminates.\n",
        "With a rate of 0.1 and shuffled data and labels it seems to terminate as well."
       ]
      },
      {
       "output_type": "stream",
       "stream": "stdout",
       "text": [
        "\n",
        "With a rate of 0.25 and shuffled data and labels it seems to terminate as well."
       ]
      },
      {
       "output_type": "stream",
       "stream": "stdout",
       "text": [
        "\n"
       ]
      }
     ],
     "prompt_number": 16
    }
   ],
   "metadata": {}
  }
 ]
}