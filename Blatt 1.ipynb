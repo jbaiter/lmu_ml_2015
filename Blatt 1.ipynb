{
 "cells": [
  {
   "cell_type": "markdown",
   "metadata": {},
   "source": [
    "# Exercise Sheet 1\n",
    "\n",
    "## Exercise 1-1 Linear Algebra\n",
    "\n",
    "Let $a = (1,2,1)^T$ and $b = (2,2,1)^T$ be vectors and let\n",
    "$A = \\begin{pmatrix} 1 & 2 \\\\ 2 & 1 \\\\ 1 & 1 \\end{pmatrix}$, $B = \\begin{pmatrix} 2 & 1 \\\\ 1 & 2 \\end{pmatrix}$, $C = \\begin{pmatrix} 1 & 3 \\\\ 0 & 1 \\end{pmatrix}$"
   ]
  },
  {
   "cell_type": "code",
   "execution_count": 10,
   "metadata": {
    "collapsed": true
   },
   "outputs": [],
   "source": [
    "import numpy as np\n",
    "import matplotlib.pyplot as plt\n",
    "\n",
    "a = np.mat([[1], [2], [1]])\n",
    "b = np.mat([[2], [2], [1]])\n",
    "\n",
    "A = np.mat([[1, 2], [2, 1], [1, 1]])\n",
    "B = np.mat([[2, 1], [1, 2]])\n",
    "C = np.mat([[1, 3], [0, 1]])"
   ]
  },
  {
   "cell_type": "markdown",
   "metadata": {},
   "source": [
    "## a)\n",
    "Calculate the following results (either with pen and paper or a programming language of your choice)"
   ]
  },
  {
   "cell_type": "code",
   "execution_count": 12,
   "metadata": {
    "collapsed": false
   },
   "outputs": [
    {
     "name": "stdout",
     "output_type": "stream",
     "text": [
      "a^T b = \n",
      "[[7]]\n",
      "a b^T = \n",
      "[[2 2 1]\n",
      " [4 4 2]\n",
      " [2 2 1]]\n",
      "A C =\n",
      "[[1 5]\n",
      " [2 7]\n",
      " [1 4]]\n",
      "C A^T = \n",
      "[[7 5 4]\n",
      " [2 1 1]]\n",
      "A^T a = \n",
      "[[6]\n",
      " [5]]\n",
      "a^T A = \n",
      "[[6 5]]\n"
     ]
    }
   ],
   "source": [
    "print 'a^T b = '\n",
    "print a.T * b\n",
    "\n",
    "print 'a b^T = '\n",
    "print a * b.T\n",
    "\n",
    "print 'A C ='\n",
    "print A * C\n",
    "\n",
    "print 'C A^T = '\n",
    "print C * A.T\n",
    "\n",
    "print 'A^T a = '\n",
    "print A.T * a\n",
    "\n",
    "print 'a^T A = '\n",
    "print a.T * A"
   ]
  },
  {
   "cell_type": "markdown",
   "metadata": {},
   "source": [
    "## b)\n",
    "Invert B and check if $B^{-1}B = BB^{-1} = I$ holds."
   ]
  },
  {
   "cell_type": "code",
   "execution_count": 19,
   "metadata": {
    "collapsed": false
   },
   "outputs": [
    {
     "name": "stdout",
     "output_type": "stream",
     "text": [
      "B^-1 = \n",
      "[[ 0.66666667 -0.33333333]\n",
      " [-0.33333333  0.66666667]]\n",
      "B^-1 * B = \n",
      "[[ 1.  0.]\n",
      " [ 0.  1.]]\n",
      "B * B^-1 = \n",
      "[[ 1.  0.]\n",
      " [ 0.  1.]]\n",
      "I = \n",
      "[[ 1.  0.]\n",
      " [ 0.  1.]]\n",
      "B^-1 * B = I: \n",
      "True\n",
      "B * B^-1 = I: \n",
      "True\n"
     ]
    }
   ],
   "source": [
    "print 'B^-1 = '\n",
    "print B.I\n",
    "\n",
    "print 'B^-1 * B = '\n",
    "print B.I * B\n",
    "\n",
    "print 'B * B^-1 = '\n",
    "print B * B.I\n",
    "\n",
    "print 'I = '\n",
    "print np.identity(2)\n",
    "\n",
    "print 'B^-1 * B = I: '\n",
    "print (B.I * B == np.identity(2)).all()\n",
    "\n",
    "print 'B * B^-1 = I: '\n",
    "print (B * B.I == np.identity(2)).all()"
   ]
  },
  {
   "cell_type": "markdown",
   "metadata": {},
   "source": [
    "## c)\n",
    "Generate an orthonormal 3 × 3 matrix. Check if rows and columns are indeed orthonormal."
   ]
  },
  {
   "cell_type": "code",
   "execution_count": 16,
   "metadata": {
    "collapsed": true
   },
   "outputs": [],
   "source": [
    "#??????????????????????\n",
    "orthonormal = alle Spalten sind orthogonal"
   ]
  },
  {
   "cell_type": "markdown",
   "metadata": {},
   "source": [
    "## Exercise 1-2 Recap: Vector Calculus\n",
    "\n",
    "Compute $\\frac{\\partial g(x)}{\\partial x}$ the function below.\n",
    "_Hint_: For a function $g(x):\\mathbb{R}^n \\rightarrow \\mathbb{R}$ miti $x \\in \\mathbb{R}^n$ holds:\n",
    "\n",
    "$$\\frac{\\partial g(x)}{\\partial x} = \\begin{bmatrix} \\frac{\\partial g(x)}{\\partial x_1} \\\\ \\frac{\\partial g(x)}{\\partial x_2} \\\\ \\vdots \\\\\\frac{\\partial g(x)}{\\partial x_n} \\end{bmatrix} $$."
   ]
  },
  {
   "cell_type": "markdown",
   "metadata": {},
   "source": [
    "## a)\n",
    "$g(x) = \\sum^n_{i=1}x_i$\n",
    "\n",
    "$\\frac{\\partial g(x)}{\\partial x} = \\begin{pmatrix} 1 \\\\ 1 \\\\ \\vdots \\\\ 1 \\end{pmatrix}$\n",
    "\n",
    "## b)\n",
    "$g(x) = (x,x)$, the standard scalar product of x with itself\n",
    "\n",
    "$\\frac{\\partial g(x)}{\\partial x} = \\begin{pmatrix} 2x_1 \\\\ 2x_2 \\\\ \\vdots \\\\ 2x_n\\end{pmatrix}$\n",
    "\n",
    "## c)\n",
    "$g(x) = (x-\\mu)^2$ für $\\mu \\in \\mathbb{R}^n$"
   ]
  },
  {
   "cell_type": "markdown",
   "metadata": {},
   "source": [
    "#### Setup"
   ]
  },
  {
   "cell_type": "code",
   "execution_count": 2,
   "metadata": {
    "collapsed": false,
    "run_control": {
     "breakpoint": false
    }
   },
   "outputs": [],
   "source": [
    "import itertools\n",
    "import random\n",
    "\n",
    "import numpy as np"
   ]
  },
  {
   "cell_type": "code",
   "execution_count": 3,
   "metadata": {
    "collapsed": false,
    "run_control": {
     "breakpoint": false
    }
   },
   "outputs": [],
   "source": [
    "patterns = [np.matrix([[x], [y]]) for x, y in [(2,4), (1,0.5), (0.5,1.5), (0,0.5)]]\n",
    "labels = [1, 1, -1, -1]"
   ]
  },
  {
   "cell_type": "code",
   "execution_count": 4,
   "metadata": {
    "collapsed": false,
    "run_control": {
     "breakpoint": false
    }
   },
   "outputs": [],
   "source": [
    "def get_shuffled(labels, patterns):\n",
    "    zipped = list(zip(labels, patterns))\n",
    "    random.shuffle(zipped)\n",
    "    labels_shuf, patterns_shuf = list(zip(*zipped))\n",
    "    return labels_shuf, patterns_shuf"
   ]
  },
  {
   "cell_type": "markdown",
   "metadata": {},
   "source": [
    "#### a) How many iterations are required by the pattern-based perceptron learning rule in order to seperate classes A and B correctly if the weight vector w is initialized as (0, 1, −1) and step size η is set to 0.1?"
   ]
  },
  {
   "cell_type": "code",
   "execution_count": 5,
   "metadata": {
    "collapsed": false,
    "run_control": {
     "breakpoint": false
    }
   },
   "outputs": [],
   "source": [
    "from scipy.special import expit as sigmoid\n",
    "\n",
    "class Perceptron:\n",
    "    def __init__(self, initial_weights):\n",
    "        self._initial_weights = initial_weights\n",
    "        self.weights = initial_weights[:]\n",
    "        \n",
    "    def _add_bias(self, data):\n",
    "            return np.vstack([[1], data])\n",
    "    \n",
    "    def reset(self):\n",
    "        self.weights = self._initial_weights[:]\n",
    "        \n",
    "    def predict(self, data):\n",
    "        if len(self.weights) - len(data) == 1:\n",
    "            data = self._add_bias(data)\n",
    "        return np.sign(sum(w*data[j] for j, w in enumerate(self.weights)))\n",
    "    \n",
    "    def fit(self, data, classes, learn_rate, max_iterations):\n",
    "        raise NotImplemented()\n",
    "    \n",
    "    \n",
    "class PatternPerceptron(Perceptron):\n",
    "    def fit(self, data, classes, learn_rate=0.1, max_iterations=100):\n",
    "        # Add bias to data\n",
    "        data = [np.vstack([[1], d]) for d in data]\n",
    "        def has_converged():\n",
    "            return all(self.predict(x) == y\n",
    "                                    for x, y in zip(data, classes))\n",
    "        iterations = 0\n",
    "        while iterations < max_iterations and not has_converged():\n",
    "            iterations += 1\n",
    "            # Error is here, we must not take *all* data into account, but merely a single one\n",
    "            # that we pick sequentially\n",
    "            # => Sample-based learning!\n",
    "            currently_misclassified = [(x, y) for x, y in zip(data, classes)\n",
    "                                       if self.predict(x) != y]\n",
    "            for j in range(len(self.weights)):\n",
    "                increase = learn_rate * sum(y*x[j] for x, y in currently_misclassified)\n",
    "                self.weights[j] += increase\n",
    "        if not has_converged():\n",
    "            raise Exception(\"Did not converge after {} iterations\"\n",
    "                            .format(iterations))\n",
    "        return iterations"
   ]
  },
  {
   "cell_type": "code",
   "execution_count": 6,
   "metadata": {
    "collapsed": false,
    "run_control": {
     "breakpoint": false
    }
   },
   "outputs": [
    {
     "name": "stdout",
     "output_type": "stream",
     "text": [
      "Answer: 1 iterations are required.\n"
     ]
    }
   ],
   "source": [
    "p = PatternPerceptron(initial_weights=[0, 1, -1])\n",
    "print(\"Answer: {} iterations are required.\".format(\n",
    "    p.fit(patterns, labels, learn_rate=0.1, max_iterations=2000)))"
   ]
  },
  {
   "cell_type": "markdown",
   "metadata": {},
   "source": [
    "CORRECT"
   ]
  },
  {
   "cell_type": "markdown",
   "metadata": {},
   "source": [
    "#### b) How many iterations are required if η = 0.25?    Is the order of the considered patterns relevant? If so, give an example, otherwise, prove it."
   ]
  },
  {
   "cell_type": "code",
   "execution_count": 7,
   "metadata": {
    "collapsed": false,
    "run_control": {
     "breakpoint": false
    }
   },
   "outputs": [
    {
     "name": "stdout",
     "output_type": "stream",
     "text": [
      "Answer: 2 iterations are required with η = 0.25.\n",
      "Answer: With the patterns in shuffled order, we needed set([2]) iterations, so the order does not seem to be relevant.\n"
     ]
    }
   ],
   "source": [
    "p.reset()\n",
    "print(\"Answer: {} iterations are required with η = 0.25.\".format(\n",
    "    p.fit(patterns, labels, learn_rate=0.25, max_iterations=100)))\n",
    "\n",
    "randomized_iters = []\n",
    "for _ in range(100):\n",
    "    p.reset()\n",
    "    labels_shuf, patterns_shuf = get_shuffled(labels, patterns)\n",
    "    randomized_iters.append(\n",
    "        p.fit(patterns_shuf, labels_shuf, learn_rate=0.25,\n",
    "              max_iterations=100))\n",
    "print(\"Answer: With the patterns in shuffled order, we needed {} iterations, so \"\n",
    "      \"the order does not seem to be relevant.\".format(set(randomized_iters)))"
   ]
  },
  {
   "cell_type": "markdown",
   "metadata": {},
   "source": [
    "NOT CORRECT -> Should be 6 iterations\n",
    "NOT CORRECT -> Does matter\n",
    "??? How to prove that this must be the case ???"
   ]
  },
  {
   "cell_type": "markdown",
   "metadata": {},
   "source": [
    "#### c) After how many iterations does the gradient-based learning rule terminate for both η? In this case: Is the order of the considered patterns relevant?"
   ]
  },
  {
   "cell_type": "code",
   "execution_count": 8,
   "metadata": {
    "collapsed": false,
    "run_control": {
     "breakpoint": false
    }
   },
   "outputs": [],
   "source": [
    "class GradientPerceptron(Perceptron):\n",
    "    def fit(self, data, classes, learn_rate=0.1, max_iterations=100):\n",
    "        # Add bias to data\n",
    "        data = [np.vstack([[1], d]) for d in data]\n",
    "        has_converged = lambda: all(self.predict(x) == y\n",
    "                                    for x, y in zip(data, classes))\n",
    "        iterations = 0\n",
    "        while iterations < max_iterations and not has_converged():\n",
    "            iterations += 1\n",
    "            # ERROR: According to the solution, we should go over *all* misclassified patterns??\n",
    "            i = np.random.randint(len(data))\n",
    "            # We only want to select misclassified patterns\n",
    "            if classes[i] == self.predict(data[i]):\n",
    "                continue\n",
    "            for j in range(len(self.weights)):\n",
    "                increase = learn_rate * classes[i] * data[i][j]\n",
    "                self.weights[j] += increase\n",
    "        if not has_converged():\n",
    "            raise Exception(\"Did not converge after {} iterations\"\n",
    "                            .format(iterations))\n",
    "        return iterations"
   ]
  },
  {
   "cell_type": "code",
   "execution_count": 9,
   "metadata": {
    "collapsed": false,
    "run_control": {
     "breakpoint": false
    }
   },
   "outputs": [
    {
     "name": "stdout",
     "output_type": "stream",
     "text": [
      "Answer: With a rate of 0.1, gradient-based learning terminates.\n",
      "Answer: With a rate of 0.25, gradient-based learning terminates.\n",
      "With a rate of 0.1 and shuffled data and labels it seems to terminate as well.\n",
      "With a rate of 0.25 and shuffled data and labels it seems to terminate as well.\n"
     ]
    }
   ],
   "source": [
    "gp = GradientPerceptron(initial_weights=[0, 1, -1])\n",
    "for rate in (0.1, 0.25):\n",
    "    gp.reset()\n",
    "    gp.fit(patterns, labels, learn_rate=rate, max_iterations=100)\n",
    "    print(\"Answer: With a rate of {}, gradient-based learning terminates.\".format(rate))\n",
    "\n",
    "for rate in (0.1, 0.25):\n",
    "    for _ in range(100):\n",
    "        gp.reset()\n",
    "        labels_shuf, patterns_shuf = get_shuffled(labels, patterns)\n",
    "        gp.fit(patterns_shuf, labels_shuf, learn_rate=0.1,\n",
    "              max_iterations=100)\n",
    "    print(\"With a rate of {} and shuffled data and labels it seems to terminate as well.\".format(rate))\n"
   ]
  }
 ],
 "metadata": {
  "kernelspec": {
   "display_name": "Python 2",
   "language": "python",
   "name": "python2"
  },
  "language_info": {
   "codemirror_mode": {
    "name": "ipython",
    "version": 2
   },
   "file_extension": ".py",
   "mimetype": "text/x-python",
   "name": "python",
   "nbconvert_exporter": "python",
   "pygments_lexer": "ipython2",
   "version": "2.7.6"
  }
 },
 "nbformat": 4,
 "nbformat_minor": 0
}
