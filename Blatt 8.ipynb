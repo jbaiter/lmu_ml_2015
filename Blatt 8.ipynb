{
 "cells": [
  {
   "cell_type": "markdown",
   "metadata": {},
   "source": [
    "# Exercise Sheet 8\n",
    "\n",
    "## Exercise 8-1: Human Height\n",
    "\n",
    "Assume that the height of a human from a finite population is a Gaussian random variable:\n",
    "\n",
    "$$\n",
    "P_w(x_i) = \\mathcal{N} (x_i;\\mu,\\sigma^2 = \\frac{1}{\\sigma\\sqrt{2\\pi}}exp(-\\frac{(x_i-\\mu)^2}{2\\sigma^2})\n",
    "$$\n",
    "\n",
    "For independent $x_i \\in \\mathbb{R}$ from such a population $w=(\\mu,\\sigma)^T \\in \\mathbb{R}^2$ holds\n",
    "\n",
    "$$\n",
    "P_w(x_1,\\dots,x_N) = \\prod^N_{i=1}P_w(x_i)=\n",
    "\\prod^N_{i=1} \\mathcal{N}(x_i;\\mu,\\sigma^2) = \n",
    "\\frac{1}{(2\\pi\\sigma^2)^{\\frac{N}{2}}}exp(-\\frac{1}{2\\sigma^2}\\sum^N_{i=1}(x_i-\\mu)^2))\n",
    "$$\n"
   ]
  },
  {
   "cell_type": "markdown",
   "metadata": {
    "run_control": {
     "breakpoint": false
    }
   },
   "source": [
    "### (a)\n",
    "\n",
    "Determine the maximum likelihood estimator of $P_w(x_1,\\dots,x_N)$."
   ]
  },
  {
   "cell_type": "markdown",
   "metadata": {
    "run_control": {
     "breakpoint": false
    }
   },
   "source": [
    "### (b)\n",
    "\n",
    "Compute the corresponding estimators for the four height datasets in the file _body\\_sizes.txt_ and\n",
    "visualize the respective distributions. How does the estimator reflect the understanding of the underlying\n",
    "data?"
   ]
  },
  {
   "cell_type": "markdown",
   "metadata": {},
   "source": [
    "## Exercise 8-2: Linear Regression with Gaussian Noise\n",
    "\n",
    "Let $D, d_i = (x_i,1,\\dots, x_{i,M}, y_i)^T$ , be a dataset of size $N$ with $M$ features and an output $by$ which depends linearly on X.\n",
    "Due to erroneous measurements the inputs the inputs are noisy, i.e.:\n",
    "\n",
    "$$\n",
    "y_i = x_i^Tw + \\epsilon_i,\n",
    "$$\n",
    "\n",
    "where $\\epsilon_i$ is the noise of data point $i$.\n",
    "Furthermore, assume $\\epsilon$ to be gaussian \n",
    "distributed:\n",
    "\n",
    "$$\n",
    "P(\\epsilon_i) = \\frac{1}{\\sqrt{2\\pi\\sigma^2}}e^{-\\frac{1}{2\\sigma^2}e_i^2}.\n",
    "$$\n",
    "\n",
    "Given the variables X and the model w, we can then model the distribution of y as follows:\n",
    "\n",
    "$$\n",
    "P(y_i|x_i,w) = \\frac{1}{\\sqrt{2\\pi\\sigma^2}}e^{-\\frac{1}{2\\sigma^2}(y_i-x_i^Tw)^2}\n",
    "$$"
   ]
  },
  {
   "cell_type": "markdown",
   "metadata": {},
   "source": [
    "### (a)\n",
    "\n",
    "Determine the parameter $\\hat{w}$ which maximizes the probability of the training data $P(D|w)$, using the _maximum-likelihood estimator_: $\\hat{w}^{ML} = arg max_w P(D|w)$.\n",
    "You may assume that the w are distributed independently of the input data X."
   ]
  },
  {
   "cell_type": "markdown",
   "metadata": {},
   "source": [
    "### (b)\n",
    "\n",
    "A common assumption for the a priori distribution of random variables is:\n",
    "\n",
    "$$\n",
    "P(w) = \\frac{1}{(2\\pi\\alpha^2)^{\\frac{M}{2}}}e^{(-\\frac{1}{2\\alpha^2}\\sum^{M-1}_{j=0}w^2_j)}\n",
    "$$\n",
    "\n",
    "Compute the parameter $\\hat{w}$ which maximizes $P(w)P(D|w)$. Does this give an alternative interpretation to the $\\lambda$-term of the penalized least squares function (PLS)?"
   ]
  }
 ],
 "metadata": {
  "kernelspec": {
   "display_name": "Python 2",
   "language": "python",
   "name": "python2"
  },
  "language_info": {
   "codemirror_mode": {
    "name": "ipython",
    "version": 2
   },
   "file_extension": ".py",
   "mimetype": "text/x-python",
   "name": "python",
   "nbconvert_exporter": "python",
   "pygments_lexer": "ipython2",
   "version": "2.7.6"
  }
 },
 "nbformat": 4,
 "nbformat_minor": 0
}
