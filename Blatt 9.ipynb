{
 "cells": [
  {
   "cell_type": "markdown",
   "metadata": {},
   "source": [
    "# Exercise Sheet 9\n",
    "\n",
    "## Exercise 9-1: Modellvergleich\n",
    "\n",
    "Vergleichen Sie Modelle der Regression mit Basisfunktionen. Die Vorhersage für einen Datenpunkt $x_i \\in \\mathbb{R}$ sei gegeben durch:\n",
    "\n",
    "$$\n",
    "f(x_i,w) = \\sum^{M_\\Phi}_{j=1}w_j\\Phi_j(x_i)\n",
    "$$\n",
    "\n",
    "Verwenden Sie die PLS-Lösung $\\hat{w} = (\\Phi^T\\Phi+\\lambda I)^{-1}\\Phi^Ty$ mit $\\Phi_{i,j}=\\Phi_j(x_i)=x^{j-1}_i$. Gegeben sei der Datensatz $X, y$ der Größe $N = 10$, basierend auf einer Rauschvarianz von $\\sigma^2 = 0.25$:\n",
    "\n",
    "| X | 0.3 | 0.4 | 0.8 | 1.5 | 1.8 | 3.6 |  4  | 4.3 | 4.6 |  5  |\n",
    "|---|-----|-----|-----|-----|-----|-----|-----|-----|-----|-----|\n",
    "| y |  7  | 4.7 | 0.6 | -1.1| -0.3| 4.6 | 5.5 | 5.7 | 3.1 | -0.3|\n",
    "\n",
    "Es soll das beste Modell für Basisfunktionen mit $M_\\Phi \\in \\{1,\\dots,6\\}$ bestimmt werden. Als Loss-Funktion nehmen Sie im folgenden den mittleren quadratischen Fehler (MSE)."
   ]
  },
  {
   "cell_type": "code",
   "execution_count": null,
   "metadata": {
    "collapsed": true
   },
   "outputs": [],
   "source": [
    "import numpy as np\n",
    "\n",
    "X = [.3,.4,.8,1.5,1.8,3.6,4.0,4.3,4.6]\n",
    "y = [7.0,4.7,.6,-1.1,-.3,4.6,5.5,5.7,3.1,-.3]\n",
    "\n"
   ]
  },
  {
   "cell_type": "markdown",
   "metadata": {
    "run_control": {
     "breakpoint": false
    }
   },
   "source": [
    "### (a)\n",
    "\n",
    "Bestimmen Sie das beste Modell durch Kreuzvalidierung (5-fach und 10-fach). Unterstützen die paarweisen\n",
    "Tests aus der Vorlesung die Entscheidung des MSE? Welchen Einfluss hat der $\\lambda$-Parameter?"
   ]
  },
  {
   "cell_type": "markdown",
   "metadata": {
    "run_control": {
     "breakpoint": false
    }
   },
   "source": [
    "### (b)\n",
    "\n",
    "Kommen Sie mit den frequentistischen Verfahren ($C_p$ Statistik und AIC) und dem Bayes'schen Verfahren\n",
    "(BIC) zu den gleichen Schlüssen?"
   ]
  },
  {
   "cell_type": "markdown",
   "metadata": {
    "run_control": {
     "breakpoint": false
    }
   },
   "source": [
    "### (c)\n",
    "\n",
    "Welchen Einfluss hat die Datengröße $N$, wenn Sie einen vergleichbaren Datensatz für $N = \\{100, 1000\\}$\n",
    "simulieren?"
   ]
  }
 ],
 "metadata": {
  "kernelspec": {
   "display_name": "Python 2",
   "language": "python",
   "name": "python2"
  },
  "language_info": {
   "codemirror_mode": {
    "name": "ipython",
    "version": 2
   },
   "file_extension": ".py",
   "mimetype": "text/x-python",
   "name": "python",
   "nbconvert_exporter": "python",
   "pygments_lexer": "ipython2",
   "version": "2.7.6"
  }
 },
 "nbformat": 4,
 "nbformat_minor": 0
}
