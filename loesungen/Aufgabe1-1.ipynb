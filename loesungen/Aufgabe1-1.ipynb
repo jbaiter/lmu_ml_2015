{
 "metadata": {
  "kernelspec": {
   "display_name": "Python 2",
   "language": "python",
   "name": "python2"
  },
  "language_info": {
   "codemirror_mode": {
    "name": "ipython",
    "version": 2
   },
   "file_extension": ".py",
   "mimetype": "text/x-python",
   "name": "python",
   "nbconvert_exporter": "python",
   "pygments_lexer": "ipython2",
   "version": "2.7.6"
  },
  "name": ""
 },
 "nbformat": 3,
 "nbformat_minor": 0,
 "worksheets": [
  {
   "cells": [
    {
     "cell_type": "code",
     "collapsed": false,
     "input": [
      "import numpy as np\n",
      "a = np.matrix([1,2,1]).T\n",
      "print(\"a: \\n\" + str(a))\n",
      "b = np.matrix([2,2,1]).T\n",
      "print(\"b: \\n\" + str(b))\n",
      "A = np.matrix([[1,2],[2,1],[1,1]])\n",
      "print(\"A: \\n\" + str(A))\n",
      "B = np.matrix([[2,1],[1,2]])\n",
      "print(\"B: \\n\" + str(B))\n",
      "C = np.matrix([[1,3],[0,1]])\n",
      "print(\"C: \\n\" + str(C))"
     ],
     "language": "python",
     "metadata": {},
     "outputs": [
      {
       "output_type": "stream",
       "stream": "stdout",
       "text": [
        "a: \n",
        "[[1]\n",
        " [2]\n",
        " [1]]\n",
        "b: \n",
        "[[2]\n",
        " [2]\n",
        " [1]]\n",
        "A: \n",
        "[[1 2]\n",
        " [2 1]\n",
        " [1 1]]\n",
        "B: \n",
        "[[2 1]\n",
        " [1 2]]\n",
        "C: \n",
        "[[1 3]\n",
        " [0 1]]\n"
       ]
      }
     ],
     "prompt_number": 59
    },
    {
     "cell_type": "code",
     "collapsed": false,
     "input": [
      "print(\"a.T*b\\n\" + str(a.T*b))\n",
      "print(\"a*b.T\\n\" + str(a*b.T))\n",
      "print(\"A*C\\n\" + str(A*C))\n",
      "print(\"C*A.T\\n\" + str(C*A.T))"
     ],
     "language": "python",
     "metadata": {},
     "outputs": [
      {
       "output_type": "stream",
       "stream": "stdout",
       "text": [
        "a.T*b\n",
        "[[7]]\n",
        "a*b.T\n",
        "[[2 2 1]\n",
        " [4 4 2]\n",
        " [2 2 1]]\n",
        "A*C\n",
        "[[1 5]\n",
        " [2 7]\n",
        " [1 4]]\n",
        "C*A.T\n",
        "[[7 5 4]\n",
        " [2 1 1]]\n"
       ]
      }
     ],
     "prompt_number": 60
    },
    {
     "cell_type": "code",
     "collapsed": false,
     "input": [
      "import numpy.linalg\n",
      "\n",
      "print(str(numpy.linalg.inv(B)))"
     ],
     "language": "python",
     "metadata": {},
     "outputs": [
      {
       "output_type": "stream",
       "stream": "stdout",
       "text": [
        "[[ 0.66666667 -0.33333333]\n",
        " [-0.33333333  0.66666667]]\n"
       ]
      }
     ],
     "prompt_number": 61
    },
    {
     "cell_type": "code",
     "collapsed": false,
     "input": [
      "print(str(np.array_equal(numpy.linalg.inv(B)*B, B*numpy.linalg.inv(B))))\n",
      "print(str(np.array_equal(np.identity(2),B*numpy.linalg.inv(B))))"
     ],
     "language": "python",
     "metadata": {},
     "outputs": [
      {
       "output_type": "stream",
       "stream": "stdout",
       "text": [
        "True\n",
        "True\n"
       ]
      }
     ],
     "prompt_number": 62
    },
    {
     "cell_type": "code",
     "collapsed": false,
     "input": [
      "M = np.eye(3)\n",
      "np.random.shuffle(M)\n",
      "M = np.matrix(M)\n",
      "print(str(M))"
     ],
     "language": "python",
     "metadata": {},
     "outputs": [
      {
       "output_type": "stream",
       "stream": "stdout",
       "text": [
        "[[ 0.  1.  0.]\n",
        " [ 1.  0.  0.]\n",
        " [ 0.  0.  1.]]\n"
       ]
      }
     ],
     "prompt_number": 63
    },
    {
     "cell_type": "code",
     "collapsed": false,
     "input": [
      "print(str(np.eye(3)))"
     ],
     "language": "python",
     "metadata": {},
     "outputs": [
      {
       "output_type": "stream",
       "stream": "stdout",
       "text": [
        "[[ 1.  0.  0.]\n",
        " [ 0.  1.  0.]\n",
        " [ 0.  0.  1.]]\n"
       ]
      }
     ],
     "prompt_number": 64
    },
    {
     "cell_type": "code",
     "collapsed": false,
     "input": [
      "print(str(np.all(M*M.T == np.eye(3))));"
     ],
     "language": "python",
     "metadata": {},
     "outputs": [
      {
       "output_type": "stream",
       "stream": "stdout",
       "text": [
        "True\n"
       ]
      }
     ],
     "prompt_number": 65
    },
    {
     "cell_type": "code",
     "collapsed": false,
     "input": [
      "print(str(np.all(M.T*M == np.eye(3))))"
     ],
     "language": "python",
     "metadata": {},
     "outputs": [
      {
       "output_type": "stream",
       "stream": "stdout",
       "text": [
        "True\n"
       ]
      }
     ],
     "prompt_number": 66
    },
    {
     "cell_type": "code",
     "collapsed": false,
     "input": [
      "print(str(np.array_equal(M.T, numpy.linalg.inv(M))))"
     ],
     "language": "python",
     "metadata": {},
     "outputs": [
      {
       "output_type": "stream",
       "stream": "stdout",
       "text": [
        "True\n"
       ]
      }
     ],
     "prompt_number": 67
    },
    {
     "cell_type": "code",
     "collapsed": false,
     "input": [
      "np.all(M*M.T == np.eye(3))"
     ],
     "language": "python",
     "metadata": {},
     "outputs": [
      {
       "metadata": {},
       "output_type": "pyout",
       "prompt_number": 69,
       "text": [
        "True"
       ]
      }
     ],
     "prompt_number": 69
    },
    {
     "cell_type": "code",
     "collapsed": true,
     "input": [],
     "language": "python",
     "metadata": {},
     "outputs": [],
     "prompt_number": null
    },
    {
     "cell_type": "code",
     "collapsed": true,
     "input": [],
     "language": "python",
     "metadata": {},
     "outputs": [],
     "prompt_number": null
    },
    {
     "cell_type": "code",
     "collapsed": true,
     "input": [],
     "language": "python",
     "metadata": {},
     "outputs": [],
     "prompt_number": null
    }
   ],
   "metadata": {}
  }
 ]
}