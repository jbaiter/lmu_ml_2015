{
 "metadata": {
  "kernelspec": {
   "display_name": "Python 2",
   "language": "python",
   "name": "python2"
  },
  "language_info": {
   "codemirror_mode": {
    "name": "ipython",
    "version": 2
   },
   "file_extension": ".py",
   "mimetype": "text/x-python",
   "name": "python",
   "nbconvert_exporter": "python",
   "pygments_lexer": "ipython2",
   "version": "2.7.6"
  },
  "name": ""
 },
 "nbformat": 3,
 "nbformat_minor": 0,
 "worksheets": [
  {
   "cells": [
    {
     "cell_type": "code",
     "collapsed": false,
     "input": [
      "import numpy as np\n",
      "%matplotlib inline\n",
      "import matplotlib.pyplot as plt\n",
      "#data; first dimension is bias\n",
      "data = np.matrix([[1,2,4],[1,1,0.5],[1,0.5,1.5],[1,0,0.5]])\n",
      "#labels in the same order as data\n",
      "label = np.matrix([1,1,-1,-1]).T\n",
      "#pre-initialized weights; initial bias is zero\n",
      "weights = np.matrix([0,1,-1]).T\n",
      "#learning rate\n",
      "eta = 0.25\n",
      "def plotme(data, weightsArray, xvals):\n",
      "    \"\"\"Generates a plot from the data and a list of lines representing its separating lines over a set of iterations\"\"\"\n",
      "    plt.close('all')\n",
      "    counter = 0;\n",
      "    plt.xlim(-0.5,4.5)\n",
      "    plt.ylim(-0.5,4.5)\n",
      "    plt.gcf().set_size_inches((4,4))\n",
      "    #plot the points\n",
      "    plt.plot(data[0:2,1], data[0:2,2], 'ro')\n",
      "    plt.plot(data[2:4,1], data[2:4,2], 'bo')\n",
      "    #plot the seperating hyperplanes; each weight array represents one hyperplane \n",
      "    for weights in weightsArray:\n",
      "        counter = counter +1;\n",
      "        #avoid division by zero\n",
      "        if(weights[2] == 0):\n",
      "            weights[2] = 0.0001\n",
      "        y = -weights[1]/weights[2]*np.matrix(xvals)-weights[0]/weights[2]\n",
      "        plt.plot(np.array(xvals), np.array(y)[0], \"g\", linewidth=counter)\n",
      "    plt.show()"
     ],
     "language": "python",
     "metadata": {},
     "outputs": [],
     "prompt_number": 4
    },
    {
     "cell_type": "code",
     "collapsed": false,
     "input": [
      "def error(y,yhat):\n",
      "    \"\"\"Computes the number of incorrectly classified training examples\"\"\"\n",
      "    return sum([abs(a-b)/2 for a,b in zip(y,yhat)])\n",
      "\n",
      "def errorFromData(data, label, weights):\n",
      "    \"\"\"Computes the classification of the data, and from this classification the error.\"\"\"\n",
      "    return error(np.sign(data*weights),label)\n",
      "\n",
      "def train(data, labels, weights, eta):\n",
      "    \"\"\"Trains the perceptron until all instances are classified correctly\"\"\"\n",
      "    w = [weights];\n",
      "    counter = 0;\n",
      "    iteration = 0;\n",
      "    cont = True;\n",
      "    while cont:\n",
      "        #search the next incorrectly classified instance\n",
      "        counter = (counter +1) % data.shape[0];\n",
      "        d = data[counter]\n",
      "        l = labels[counter]\n",
      "        if (np.sign(d*weights) - np.sign(l)) != 0:\n",
      "            #if the instance has been classified incorrectly, adapt the weights\n",
      "            iteration = iteration + 1;\n",
      "            #perceptron learning rule\n",
      "            weights = weights + eta*d.T*l\n",
      "            #append the new weight to the list of weight vectors for later plotting\n",
      "            w.append(np.copy(weights))\n",
      "            #compute the new error, if error is zero we are done \n",
      "            pred = errorFromData(data,labels,weights)\n",
      "            if pred == 0:\n",
      "                cont = False\n",
      "    print \"Finished after \" + str(iteration) + \" iterations (eta:\" + str(eta) + \")\"\n",
      "    return w"
     ],
     "language": "python",
     "metadata": {},
     "outputs": [],
     "prompt_number": 5
    },
    {
     "cell_type": "code",
     "collapsed": false,
     "input": [
      "#1-3-a): Number of iterations with eta=0.1 is 1:\n",
      "w = train(data,label,weights,0.1)\n",
      "#Width of line is iteration\n",
      "plotme(data, w, [-1,4.5])"
     ],
     "language": "python",
     "metadata": {},
     "outputs": [
      {
       "output_type": "stream",
       "stream": "stdout",
       "text": [
        "Finished after 1 iterations (eta:0.1)\n"
       ]
      },
      {
       "metadata": {},
       "output_type": "display_data",
       "png": "[encoded data removed]",
       "text": [
        "<matplotlib.figure.Figure at 0x7fca7cb5b090>"
       ]
      }
     ],
     "prompt_number": 6
    },
    {
     "cell_type": "code",
     "collapsed": false,
     "input": [
      "#1-3-b): Number of iterations with eta=0.25 is 6:\n",
      "#test with eta=0.25\n",
      "w=train(data,label,weights,0.25)\n",
      "#Width of line is iteration\n",
      "plotme(data, w, [-0.5,4.5])"
     ],
     "language": "python",
     "metadata": {},
     "outputs": [
      {
       "output_type": "stream",
       "stream": "stdout",
       "text": [
        "Finished after 6 iterations (eta:0.25)\n"
       ]
      },
      {
       "metadata": {},
       "output_type": "display_data",
       "png": "[encoded data removed]",
       "text": [
        "<matplotlib.figure.Figure at 0x7fca7c552510>"
       ]
      }
     ],
     "prompt_number": 7
    },
    {
     "cell_type": "code",
     "collapsed": false,
     "input": [
      "#1-3-b): Number of iterations with eta=0.25, different input order\n",
      "#test with eta=0.25, different data permutation\n",
      "#get the state; reusing the same state later shuffles the labels the same way\n",
      "data1 = data.copy()\n",
      "label1= label.copy()\n",
      "rng_state = np.random.get_state()\n",
      "np.random.shuffle(data1)\n",
      "#get the state; reusing the same state shuffles the labels the same way as the data\n",
      "np.random.set_state(rng_state)\n",
      "np.random.shuffle(label1)\n",
      "w = train(data1,label1,weights,0.25)\n",
      "#Width of line is iteration\n",
      "plotme(data, w, [-0.5,4.5])"
     ],
     "language": "python",
     "metadata": {},
     "outputs": [
      {
       "output_type": "stream",
       "stream": "stdout",
       "text": [
        "Finished after 6 iterations (eta:0.25)\n"
       ]
      },
      {
       "metadata": {},
       "output_type": "display_data",
       "png": "[encoded data removed]",
       "text": [
        "<matplotlib.figure.Figure at 0x7fca9c327fd0>"
       ]
      }
     ],
     "prompt_number": 8
    },
    {
     "cell_type": "code",
     "collapsed": true,
     "input": [
      "#1-3-c):\n",
      "def train_gd(data, labels, weights, eta):\n",
      "    \"\"\"Trains the perceptron until all instances are classified correctly\"\"\"\n",
      "    w = [weights];\n",
      "    counter = 0;\n",
      "    iteration = 0;\n",
      "    cont = True;\n",
      "    while cont:\n",
      "        grad = np.zeros((3,1))\n",
      "        for d,l in zip(data,labels):\n",
      "            if (np.sign(d*weights) - np.sign(l)) != 0:\n",
      "                #if the instance has been classified incorrectly, adapt the weights\n",
      "                #gradient decent learning rule\n",
      "                grad = grad + d.T*l\n",
      "        weights = weights + eta * grad;\n",
      "        #compute the new error, if error is zero we are done \n",
      "        pred = errorFromData(data,labels,weights)\n",
      "        if pred == 0:\n",
      "            cont = False\n",
      "        iteration = iteration + 1;\n",
      "        #append the new weight to the list of weight vectors for later plotting\n",
      "        w.append(np.copy(weights))\n",
      "    print \"Finished after \" + str(iteration) + \" iterations (eta:\" + str(eta) + \")\"\n",
      "    return w\n"
     ],
     "language": "python",
     "metadata": {},
     "outputs": [],
     "prompt_number": 9
    },
    {
     "cell_type": "code",
     "collapsed": false,
     "input": [
      "#test with eta=0.25\n",
      "w=train_gd(data,label,weights,0.25)\n",
      "#Width of line is iteration\n",
      "plotme(data, w, [-0.5,4.5])"
     ],
     "language": "python",
     "metadata": {},
     "outputs": [
      {
       "output_type": "stream",
       "stream": "stdout",
       "text": [
        "Finished after 2 iterations (eta:0.25)\n"
       ]
      },
      {
       "metadata": {},
       "output_type": "display_data",
       "png": "[encoded data removed]",
       "text": [
        "<matplotlib.figure.Figure at 0x7fca9d3e8790>"
       ]
      }
     ],
     "prompt_number": 10
    },
    {
     "cell_type": "code",
     "collapsed": false,
     "input": [
      "#test with eta=0.1\n",
      "w=train_gd(data,label,weights,0.1)\n",
      "#Width of line is iteration\n",
      "plotme(data, w, [-0.5,4.5])"
     ],
     "language": "python",
     "metadata": {},
     "outputs": [
      {
       "output_type": "stream",
       "stream": "stdout",
       "text": [
        "Finished after 1 iterations (eta:0.1)\n"
       ]
      },
      {
       "metadata": {},
       "output_type": "display_data",
       "png": "[encoded data removed]",
       "text": [
        "<matplotlib.figure.Figure at 0x7fca7c4c8690>"
       ]
      }
     ],
     "prompt_number": 11
    },
    {
     "cell_type": "code",
     "collapsed": false,
     "input": [],
     "language": "python",
     "metadata": {},
     "outputs": []
    }
   ],
   "metadata": {}
  }
 ]
}