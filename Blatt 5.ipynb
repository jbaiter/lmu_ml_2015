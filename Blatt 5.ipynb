{
 "cells": [
  {
   "cell_type": "markdown",
   "metadata": {},
   "source": [
    "#Exercise 5\n",
    "##Exercise 5-1: Probability Calculus\n",
    "\n",
    "Let $X$ and $Y$ be random variables with the following data:\n",
    "\n",
    "| X/Y |   1    |   2    |     3   |\n",
    "|-----|--------|--------|---------|\n",
    "|**1**| $0.1$  | $0.15$ | $0.25$  |\n",
    "|**2**| $0.05$ |  $0.3$ | $0.15$  |"
   ]
  },
  {
   "cell_type": "markdown",
   "metadata": {
    "run_control": {
     "breakpoint": false
    }
   },
   "source": [
    "### (a)\n",
    "Compute the marginal distributions $P(X = x_i)$ and $P(Y = y_i)$."
   ]
  },
  {
   "cell_type": "markdown",
   "metadata": {
    "run_control": {
     "breakpoint": false
    }
   },
   "source": [
    "*TODO*"
   ]
  },
  {
   "cell_type": "markdown",
   "metadata": {
    "run_control": {
     "breakpoint": false
    }
   },
   "source": [
    "###(b)\n",
    "Compute the expected values $E(X)$, $E(Y)$."
   ]
  },
  {
   "cell_type": "markdown",
   "metadata": {
    "run_control": {
     "breakpoint": false
    }
   },
   "source": [
    "*TODO*"
   ]
  },
  {
   "cell_type": "markdown",
   "metadata": {
    "run_control": {
     "breakpoint": false
    }
   },
   "source": [
    "###(c)\n",
    "Compute the variances $var(X)$, $var(Y)$ as well as the covariance $cov(X,Y)$."
   ]
  },
  {
   "cell_type": "markdown",
   "metadata": {
    "run_control": {
     "breakpoint": false
    }
   },
   "source": [
    "*TODO*"
   ]
  },
  {
   "cell_type": "markdown",
   "metadata": {
    "run_control": {
     "breakpoint": false
    }
   },
   "source": [
    "###(d)\n",
    "Compute the correlation $p = \\frac{cov(X,Y)}{\\sqrt{var(X) \\cdot var(Y)}}$."
   ]
  },
  {
   "cell_type": "markdown",
   "metadata": {
    "run_control": {
     "breakpoint": false
    }
   },
   "source": [
    "*TODO*"
   ]
  },
  {
   "cell_type": "markdown",
   "metadata": {
    "run_control": {
     "breakpoint": false
    }
   },
   "source": [
    "###(e)\n",
    "Compute if the variables $X$, $Y$ are independent."
   ]
  },
  {
   "cell_type": "markdown",
   "metadata": {
    "run_control": {
     "breakpoint": false
    }
   },
   "source": [
    "*TODO*"
   ]
  },
  {
   "cell_type": "markdown",
   "metadata": {
    "run_control": {
     "breakpoint": false
    }
   },
   "source": [
    "##Exercise 5-2: Conditional Probability I\n",
    "Assume that a certain country’s population is equally male and female (and that there exist no other sexes).\n",
    "Furthermore, assume that 10% of all men are color blind, but only 1% of all women."
   ]
  },
  {
   "cell_type": "markdown",
   "metadata": {
    "run_control": {
     "breakpoint": false
    }
   },
   "source": [
    "###(a)\n",
    "Compute the probability that a person is color blind."
   ]
  },
  {
   "cell_type": "markdown",
   "metadata": {
    "run_control": {
     "breakpoint": false
    }
   },
   "source": [
    "*TODO*"
   ]
  },
  {
   "cell_type": "markdown",
   "metadata": {
    "run_control": {
     "breakpoint": false
    }
   },
   "source": [
    "###(b)\n",
    "Compute the probability that a color blind person is male."
   ]
  },
  {
   "cell_type": "markdown",
   "metadata": {
    "run_control": {
     "breakpoint": false
    }
   },
   "source": [
    "*TODO*"
   ]
  },
  {
   "cell_type": "markdown",
   "metadata": {
    "run_control": {
     "breakpoint": false
    }
   },
   "source": [
    "##Exercise 5-3: Conditional Probability II\n",
    "If screening for a disease, there are several possible outcomes. Let $T+$, $T-$ denote the events that the test is positive and negative, respectively, and $D$, $\\neg D$ denote the events of having and not having the disease, respectively. There are two major criteria to evaluate tests by:\n",
    "\n",
    "* Sensitivity: Probability (in practice more likely: ratio) of positively tested people having the disease, i.e., $P(T+ | D)$.\n",
    "* Specificity: Probability (or ratio) of negatively tested people not having the disease, i.e., $P(T- | \\neg D)$.\n",
    "\n",
    "Now, assume a (realistic) test for HIV with a sensitivity and specificity of 99.9%. Suppose that a person is randomly selected from a population where 1% are infected with HIV and tested with the aforementioned test.\n",
    "Compute the probability that the person has HIV if:"
   ]
  },
  {
   "cell_type": "markdown",
   "metadata": {
    "run_control": {
     "breakpoint": false
    }
   },
   "source": [
    "###(a)\n",
    "The test is positive"
   ]
  },
  {
   "cell_type": "markdown",
   "metadata": {
    "run_control": {
     "breakpoint": false
    }
   },
   "source": [
    "*TODO*"
   ]
  },
  {
   "cell_type": "markdown",
   "metadata": {
    "run_control": {
     "breakpoint": false
    }
   },
   "source": [
    "###(b)\n",
    "The test is negative."
   ]
  },
  {
   "cell_type": "markdown",
   "metadata": {
    "run_control": {
     "breakpoint": false
    }
   },
   "source": [
    "*TODO*"
   ]
  },
  {
   "cell_type": "markdown",
   "metadata": {
    "run_control": {
     "breakpoint": false
    }
   },
   "source": [
    "## Exercise 5-4: Interpretation of the Standard Deviation\n",
    "Sketch the graph of the standardized normal distribution with the following parameters\n",
    "$f(x) = \\frac{1}{\\sigma \\sqrt{2\\pi}} exp(-\\frac{(x-\\mu)^2}{2\\sigma^2)}$; with $\\mu = 0$ and $\\sigma = 1$ in the interval $x \\in [-4,4]$. Mark and interpret the intervals $0 \\pm \\sigma$; $0 \\pm 2\\sigma$; $0 \\pm 3\\sigma$."
   ]
  },
  {
   "cell_type": "markdown",
   "metadata": {
    "run_control": {
     "breakpoint": false
    }
   },
   "source": [
    "*TODO*"
   ]
  },
  {
   "cell_type": "markdown",
   "metadata": {
    "run_control": {
     "breakpoint": false
    }
   },
   "source": [
    "## Exercise 5-5: Kernel combinations\n",
    "In order to use an own kernel $k(x_i , x_j)$ for $x_i, x_j \\in \\mathbb{R}^n$, it must be shown that it is indeed a legitimate kernel. It can be quite complex to show that the Mercer Theorem holds for $k$. Therefore, often the explicit mapping of the implicit basis transformations is stated: $k(x_i , x_j) = \\phi(x_i)^T \\phi(x_j)$.\n",
    "\n",
    "Another popular method of showing the validity of a kernel is representing a kernel, $k(x_i, x_j) = k_1(x_i , x_j) \\circ k_2(x_i , x_j)$, as a combination of legitimate kernels combined through valid basis operations. Show that for valid kernel $k_l(x_i, x_j )$, where $l \\in \\mathbb{N}_+$, holds:"
   ]
  },
  {
   "cell_type": "markdown",
   "metadata": {
    "run_control": {
     "breakpoint": false
    }
   },
   "source": [
    "###(a) Scaling\n",
    "For $a > 0: k(x_i, x_j) := a \\cdot k_i(x_i, x_j)$ is a kernel."
   ]
  },
  {
   "cell_type": "markdown",
   "metadata": {
    "run_control": {
     "breakpoint": false
    }
   },
   "source": [
    "*TODO*"
   ]
  },
  {
   "cell_type": "markdown",
   "metadata": {
    "run_control": {
     "breakpoint": false
    }
   },
   "source": [
    "###(b) Sum\n",
    "$(x_i, x_j) := k_1(x_i, x_j) + k_2(x_i, x_j)$ is a kernel"
   ]
  },
  {
   "cell_type": "markdown",
   "metadata": {
    "run_control": {
     "breakpoint": false
    }
   },
   "source": [
    "*TODO*"
   ]
  },
  {
   "cell_type": "markdown",
   "metadata": {
    "run_control": {
     "breakpoint": false
    }
   },
   "source": [
    "###(c) Linear combination\n",
    "For $w \\in \\mathbb{R}^d_+: k(x_i, x_j) := \\sum_{l=1}^d w_l \\cdot k_l(x_i, x_j)$ is a kernel."
   ]
  },
  {
   "cell_type": "markdown",
   "metadata": {
    "run_control": {
     "breakpoint": false
    }
   },
   "source": [
    "*TODO*"
   ]
  },
  {
   "cell_type": "markdown",
   "metadata": {
    "run_control": {
     "breakpoint": false
    }
   },
   "source": [
    "###(d) Product\n",
    "$k(x_i, x_j) := k_1(x_i, x_j) \\cdot k_2(x_i, x_j)$ is a kernel."
   ]
  },
  {
   "cell_type": "markdown",
   "metadata": {
    "run_control": {
     "breakpoint": false
    }
   },
   "source": [
    "*TODO*"
   ]
  },
  {
   "cell_type": "code",
   "execution_count": null,
   "metadata": {
    "collapsed": true,
    "run_control": {
     "breakpoint": false
    }
   },
   "outputs": [],
   "source": [
    "###(e) Power\n",
    "For a $p \\in \\mathbb{N}_+ : k(x_i, x_j) := (k_1(x_i, x_j))^"
   ]
  }
 ],
 "metadata": {
  "kernelspec": {
   "display_name": "Python 3",
   "language": "python",
   "name": "python3"
  },
  "language_info": {
   "codemirror_mode": {
    "name": "ipython",
    "version": 3
   },
   "file_extension": ".py",
   "mimetype": "text/x-python",
   "name": "python",
   "nbconvert_exporter": "python",
   "pygments_lexer": "ipython3",
   "version": "3.4.3+"
  }
 },
 "nbformat": 4,
 "nbformat_minor": 0
}
