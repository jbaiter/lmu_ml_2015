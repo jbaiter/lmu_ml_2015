{
 "cells": [
  {
   "cell_type": "markdown",
   "metadata": {},
   "source": [
    "#Exercise 5\n",
    "##Exercise 5-1: Probability Calculus\n",
    "\n",
    "Let $X$ and $Y$ be random variables with the following data:\n",
    "\n",
    "| X/Y |   1    |   2    |     3   |\n",
    "|-----|--------|--------|---------|\n",
    "|**1**| $0.1$  | $0.15$ | $0.25$  |\n",
    "|**2**| $0.05$ |  $0.3$ | $0.15$  |"
   ]
  },
  {
   "cell_type": "markdown",
   "metadata": {
    "run_control": {
     "breakpoint": false
    }
   },
   "source": [
    "### (a)\n",
    "Compute the marginal distributions $P(X = x_i)$ and $P(Y = y_i)$."
   ]
  },
  {
   "cell_type": "markdown",
   "metadata": {
    "run_control": {
     "breakpoint": false
    }
   },
   "source": [
    "$\n",
    "\\begin{align}\n",
    "P(X=1) & = \\sum_y P(X=1, Y=y) & = 0.1 + 0.15 + 0.25 & = 0.5 \\\\\n",
    "P(X=2) & = \\sum_y P(X=2, Y=y) & = 0.05 + 0.3 + 0.15 & = 0.5 \\\\\n",
    "\\\\\n",
    "P(Y=1) & = \\sum_x P(Y=1, X=x) & = 0.1 + 0.05 & = 0.15 \\\\\n",
    "P(Y=2) & = \\sum_x P(Y=2, X=x) & = 0.15 + 0.3 & = 0.45 \\\\\n",
    "P(Y=2) & = \\sum_x P(Y=3, X=x) & = 0.25 + 0.15 & = 0.4 \\\\\n",
    "\\end{align}\n",
    "$"
   ]
  },
  {
   "cell_type": "markdown",
   "metadata": {
    "run_control": {
     "breakpoint": false
    }
   },
   "source": [
    "**Correct**"
   ]
  },
  {
   "cell_type": "markdown",
   "metadata": {
    "run_control": {
     "breakpoint": false
    }
   },
   "source": [
    "###(b)\n",
    "Compute the expected values $E(X)$, $E(Y)$."
   ]
  },
  {
   "cell_type": "markdown",
   "metadata": {},
   "source": [
    "$\n",
    "\\begin{split}\n",
    "E(X) & = E_{P(x)}(X) \\\\\n",
    "     & = \\sum_i x_i P(X=x_i) \\\\\n",
    "     & = (1 \\cdot (0.1 + 0.15 + 0.25)) + (2 \\cdot (0.05 + 0.3 + 0.15)) \\\\\n",
    "      & =  1.5\n",
    "\\end{split}\n",
    "$"
   ]
  },
  {
   "cell_type": "markdown",
   "metadata": {
    "run_control": {
     "breakpoint": false
    }
   },
   "source": [
    "$\n",
    "\\begin{split}\n",
    "E(Y) & = E_{P(y)}(Y) \\\\\n",
    "     & = \\sum_i y_i P(Y=y_i) \\\\\n",
    "     & = 1 \\cdot (0.1 + 0.05) + 2 \\cdot (0.15 + 0.3) + 3 \\cdot (0.25 + 0.15) \\\\\n",
    "     & = 2.25\n",
    "\\end{split}\n",
    "$"
   ]
  },
  {
   "cell_type": "markdown",
   "metadata": {
    "run_control": {
     "breakpoint": false
    }
   },
   "source": [
    "**Correct**"
   ]
  },
  {
   "cell_type": "markdown",
   "metadata": {
    "run_control": {
     "breakpoint": false
    }
   },
   "source": [
    "###(c)\n",
    "Compute the variances $var(X)$, $var(Y)$ as well as the covariance $cov(X,Y)$."
   ]
  },
  {
   "cell_type": "markdown",
   "metadata": {},
   "source": [
    "$\n",
    "\\begin{split}\n",
    "var(X) & = \\sum_i (x_i - E(X))^2 P(X=x_i) \\\\\n",
    "       & = \\sum_i (x_i - 1.5)^2 P(X=x_i) \\\\\n",
    "       & = (1 - 1.5)^2 \\cdot 0.5 + (2 - 1.5)^2 \\cdot 0.5 \\\\\n",
    "       & = 0.25 \\\\\n",
    "\\end{split}\n",
    "$"
   ]
  },
  {
   "cell_type": "markdown",
   "metadata": {
    "run_control": {
     "breakpoint": false
    }
   },
   "source": [
    "**Correct**"
   ]
  },
  {
   "cell_type": "markdown",
   "metadata": {},
   "source": [
    "$\n",
    "\\begin{split}\n",
    "var(Y) & = \\sum_i (y_i - E(Y))^2 P(Y=y_i) \\\\\n",
    "       & = \\sum_i (y_i - 2.25)^2 P(Y=y_i) \\\\\n",
    "       & = (1 - 2.25)^2 \\cdot 0.15 + (2 - 2.25)^2 \\cdot 0.45 + (3 - 2.25)^2 \\cdot 0.4 \\\\\n",
    "       & = 0.4875 \\\\\n",
    "\\end{split}\n",
    "$"
   ]
  },
  {
   "cell_type": "markdown",
   "metadata": {
    "run_control": {
     "breakpoint": false
    }
   },
   "source": [
    "**Correct**"
   ]
  },
  {
   "cell_type": "markdown",
   "metadata": {
    "run_control": {
     "breakpoint": false
    }
   },
   "source": [
    "$\n",
    "\\begin{split}\n",
    "cov(X,Y) & = \\sum_i \\sum_j (x_i - E(X))(y_j - E(Y)) P(X=x_i, Y=y_j) \\\\\n",
    "         & = \\sum_i \\sum_j (x_i - 1.5)(y_j - 2.25) P(X=x_i, Y=y_i) \\\\\n",
    "         & = (1 - 1.5)\\cdot(1 - 2.25)\\cdot0.1 + (1 - 1.5)\\cdot(2 - 2.25)\\cdot0.15 + (1 - 1.5)\\cdot(3 - 2.25)\\cdot0.25 + (2 - 1.5)\\cdot(1 - 2.25)\\cdot0.05 + (2 - 1.5)\\cdot(2 - 2.25)\\cdot0.3 + (2 - 1.5)\\cdot(3 - 2.25)\\cdot0.15 \\\\\n",
    "         & = 0.0625 + 0.01875 - 0.09375 - 0.03125 - 0.0375 + 0.05265 \\\\\n",
    "         & = -0.0285 \\\\\n",
    "\\end{split}\n",
    "$"
   ]
  },
  {
   "cell_type": "markdown",
   "metadata": {
    "run_control": {
     "breakpoint": false
    }
   },
   "source": [
    "**INCORRECT:** Should be -0.025\n",
    "\n",
    "Different approach (\"Verschiebungsansatz\"), line by line:\n",
    "\n",
    "$\n",
    "\\begin{align}\n",
    "cov(X,Y) & = E(XY) - E(X)E(Y) \\\\\n",
    "E(XY) &= (1 \\cdot 0.1 + 2 \\cdot 0.15 + 3 \\cdot 0.25) + (2 \\cdot 0.05 + 4 \\cdot 0.3 + 6 \\cdot 0.15) = 3.35 \\\\\n",
    "cov(X,Y) & = 3.35 - 1.5 \\cdot 2.25 = -0.025\n",
    "\\end{align}\n",
    "$"
   ]
  },
  {
   "cell_type": "markdown",
   "metadata": {
    "run_control": {
     "breakpoint": false
    }
   },
   "source": [
    "###(d)\n",
    "Compute the correlation $p = \\frac{cov(X,Y)}{\\sqrt{var(X) \\cdot var(Y)}}$."
   ]
  },
  {
   "cell_type": "markdown",
   "metadata": {
    "run_control": {
     "breakpoint": false
    }
   },
   "source": [
    "$\n",
    "\\begin{align}\n",
    "\\rho & = \\frac{cov(X,Y)}{\\sqrt{var(X) \\cdot var(Y)}} \\\\\n",
    "  & = \\frac{-0.0285}{\\sqrt{0.25 \\cdot 0.4875}} \\\\\n",
    "  & \\approx -0.0816\n",
    "\\end{align}\n",
    "$"
   ]
  },
  {
   "cell_type": "markdown",
   "metadata": {
    "run_control": {
     "breakpoint": false
    }
   },
   "source": [
    "**INCORRECT:** \"Folgefehler\" due to wrong $cov(X,Y)$, should be:\n",
    "\n",
    "$\n",
    "\\begin{align}\n",
    "\\rho & = \\frac{cov(X,Y)}{\\sqrt{var(X) \\cdot var(Y)}} \\\\\n",
    "  & = \\frac{-0.025}{\\sqrt{0.25 \\cdot 0.4875}} \\\\\n",
    "  & \\approx -0.07\n",
    "\\end{align}\n",
    "$\n",
    "\n",
    "-> *Weak negative correlation*"
   ]
  },
  {
   "cell_type": "markdown",
   "metadata": {
    "run_control": {
     "breakpoint": false
    }
   },
   "source": [
    "###(e)\n",
    "Compute if the variables $X$, $Y$ are independent."
   ]
  },
  {
   "cell_type": "markdown",
   "metadata": {
    "run_control": {
     "breakpoint": false
    }
   },
   "source": [
    "$\n",
    "\\begin{align}\n",
    "P(x,y) & = P(x)P(y|x) = P(x)P(y) \\\\\n",
    "???\n",
    "\\end{align} $"
   ]
  },
  {
   "cell_type": "markdown",
   "metadata": {
    "run_control": {
     "breakpoint": false
    }
   },
   "source": [
    "**Solution:**\n",
    "\n",
    "$\n",
    "\\begin{align}\n",
    "P(X=x_i, Y=y_i) & = P(X=x_i)P(Y=y_i) \\\\\n",
    "P(X=1)P(Y=1) & = 0.5 \\cdot 0.15 = 0.075 \\neq 0.1 = P(X=x_i, Y=y_i)\n",
    "\\end{align}\n",
    "$"
   ]
  },
  {
   "cell_type": "markdown",
   "metadata": {
    "run_control": {
     "breakpoint": false
    }
   },
   "source": [
    "##Exercise 5-2: Conditional Probability I\n",
    "Assume that a certain country’s population is equally male and female (and that there exist no other sexes).\n",
    "Furthermore, assume that 10% of all men are color blind, but only 1% of all women."
   ]
  },
  {
   "cell_type": "markdown",
   "metadata": {
    "run_control": {
     "breakpoint": false
    }
   },
   "source": [
    "###(a)\n",
    "Compute the probability that a person is color blind."
   ]
  },
  {
   "cell_type": "markdown",
   "metadata": {
    "run_control": {
     "breakpoint": false
    }
   },
   "source": [
    "$ P(blind) = P(blind|mann) + P(blind|frau) = 0.1 * 0.5 + 0.01 * 0.5 = 0.055$"
   ]
  },
  {
   "cell_type": "markdown",
   "metadata": {
    "run_control": {
     "breakpoint": false
    }
   },
   "source": [
    "**Correct, but here is the full solution**:\n",
    "\n",
    "$M = männlich\\\\\n",
    "F = weiblich\\\\\n",
    "C = Farbenblind$\n",
    "\n",
    "$\n",
    "\\begin{align}\n",
    "P(C) & = P(M \\cap C) + P(\\neg M \\cap C) = P(M \\cap C) + P(F \\cap C) \\\\\n",
    "P(C|M) & = \\frac{P(C \\cap M)}{P(M)} \\\\\n",
    "P(C \\cap M) & = P(C|M) \\cdot P(M) \\\\\n",
    "P(C \\cap F) & = P(C|F) \\cdot P(F) \\\\\n",
    "P(C) & = P(C|M) \\cdot P(M) + P(C|F) \\cdot P(F) = 0.1 \\cdot 0.5 + 0.01 \\cdot 0.5 = 0.055\n",
    "\\end{align}\n",
    "$"
   ]
  },
  {
   "cell_type": "markdown",
   "metadata": {
    "run_control": {
     "breakpoint": false
    }
   },
   "source": [
    "###(b)\n",
    "Compute the probability that a color blind person is male."
   ]
  },
  {
   "cell_type": "markdown",
   "metadata": {
    "run_control": {
     "breakpoint": false
    }
   },
   "source": [
    "$P(mann|blind) = ???$"
   ]
  },
  {
   "cell_type": "markdown",
   "metadata": {
    "run_control": {
     "breakpoint": false
    }
   },
   "source": [
    "**Solution:**\n",
    "\n",
    "$P(M|C) = \\frac{P(M \\cap C)}{P(C)} = \\frac{0.1 \\cdot 0.5}{0.055} = 0.9091$"
   ]
  },
  {
   "cell_type": "markdown",
   "metadata": {
    "run_control": {
     "breakpoint": false
    }
   },
   "source": [
    "##Exercise 5-3: Conditional Probability II\n",
    "If screening for a disease, there are several possible outcomes. Let $T_+$, $T_-$ denote the events that the test is positive and negative, respectively, and $D$, $\\neg D$ denote the events of having and not having the disease, respectively. There are two major criteria to evaluate tests by:\n",
    "\n",
    "* Sensitivity: Probability (in practice more likely: ratio) of positively tested people having the disease, i.e., $P(T_+ | D)$. *($T_+$ if the patient is sick)*\n",
    "* Specificity: Probability (or ratio) of negatively tested people not having the disease, i.e., $P(T_- | \\neg D)$. *($T_-$ if the patient is not sick)*\n",
    "\n",
    "Now, assume a (realistic) test for HIV with a sensitivity and specificity of 99.9%. Suppose that a person is randomly selected from a population where 1% are infected with HIV and tested with the aforementioned test.\n",
    "Compute the probability that the person has HIV if:"
   ]
  },
  {
   "cell_type": "markdown",
   "metadata": {
    "run_control": {
     "breakpoint": false
    }
   },
   "source": [
    "###(a)\n",
    "The test is positive"
   ]
  },
  {
   "cell_type": "markdown",
   "metadata": {
    "run_control": {
     "breakpoint": false
    }
   },
   "source": [
    "**Solution:**\n",
    "\n",
    "$$\n",
    "\\begin{align}\n",
    "P(D|T_+) & = \\frac{P(T_+|D) \\cdot P(D)}{P(T_+)} \\\\\n",
    "P(T_+) & = P(T_+|D) \\cdot P(D) + P(T_+|\\neg D) \\cdot P(\\neg D) \\\\\n",
    "       & = P(T_+|D) \\cdot P(D) + (1 - P(T_-|\\neg D)) - P(\\neg D) \\\\\n",
    "p(D|T_+) & = \\frac{0.99 \\cdot 0.01}{0.999 \\cdot 0.01 + (1 - 0.999) \\cdot 0.99)} = 0.9098\n",
    "\\end{align}\n",
    "$$"
   ]
  },
  {
   "cell_type": "markdown",
   "metadata": {
    "run_control": {
     "breakpoint": false
    }
   },
   "source": [
    "###(b)\n",
    "The test is negative."
   ]
  },
  {
   "cell_type": "markdown",
   "metadata": {
    "run_control": {
     "breakpoint": false
    }
   },
   "source": [
    "**Solution:**\n",
    "\n",
    "$$P(D|T_-) = \\frac{P(T_-|D) \\cdot P(D)}{P(T_-)}$$\n",
    "\n",
    "where\n",
    "\n",
    "$ P(T_-) = P(T_-|D) \\cdot P(D) + P(T_-|\\neg D)....$ (see above)\n",
    "\n",
    "or simply\n",
    "\n",
    "$P(D|T_-) = 1 - P(D|T_+) = 1 - 0.9098 = 0.0902$"
   ]
  },
  {
   "cell_type": "markdown",
   "metadata": {
    "run_control": {
     "breakpoint": false
    }
   },
   "source": [
    "## Exercise 5-4: Interpretation of the Standard Deviation\n",
    "Sketch the graph of the standardized normal distribution with the following parameters\n",
    "$f(x) = \\frac{1}{\\sigma \\sqrt{2\\pi}} exp(-\\frac{(x-\\mu)^2}{2\\sigma^2)}$; with $\\mu = 0$ and $\\sigma = 1$ in the interval $x \\in [-4,4]$. Mark and interpret the intervals $0 \\pm \\sigma$; $0 \\pm 2\\sigma$; $0 \\pm 3\\sigma$."
   ]
  },
  {
   "cell_type": "markdown",
   "metadata": {
    "run_control": {
     "breakpoint": false
    }
   },
   "source": [
    "*TODO*: Solve with matplotlib/numpy"
   ]
  },
  {
   "cell_type": "markdown",
   "metadata": {
    "run_control": {
     "breakpoint": false
    }
   },
   "source": [
    "## Exercise 5-5: Kernel combinations\n",
    "In order to use an own kernel $k(x_i , x_j)$ for $x_i, x_j \\in \\mathbb{R}^n$, it must be shown that it is indeed a legitimate kernel. It can be quite complex to show that the Mercer Theorem holds for $k$. Therefore, often the explicit mapping of the implicit basis transformations is stated: $k(x_i , x_j) = \\phi(x_i)^T \\phi(x_j)$.\n",
    "\n",
    "Another popular method of showing the validity of a kernel is representing a kernel, $k(x_i, x_j) = k_1(x_i , x_j) \\circ k_2(x_i , x_j)$, as a combination of legitimate kernels combined through valid basis operations. Show that for valid kernel $k_l(x_i, x_j )$, where $l \\in \\mathbb{N}_+$, holds:"
   ]
  },
  {
   "cell_type": "markdown",
   "metadata": {
    "run_control": {
     "breakpoint": false
    }
   },
   "source": [
    "**TODO:** The sheet has been updated, this is now 5.6, please adjust!\n",
    "\n",
    "**NOTE:** In the exam we won't have to calculate/prove anything like this. It is important though, to understand the principles\n",
    "\n",
    "**NOTE:** The solutions will be uploaded as a PDF"
   ]
  },
  {
   "cell_type": "markdown",
   "metadata": {
    "run_control": {
     "breakpoint": false
    }
   },
   "source": [
    "###(a) Scaling\n",
    "For $a > 0: k(x_i, x_j) := a \\cdot k_i(x_i, x_j)$ is a kernel."
   ]
  },
  {
   "cell_type": "markdown",
   "metadata": {
    "run_control": {
     "breakpoint": false
    }
   },
   "source": [
    "*TODO*"
   ]
  },
  {
   "cell_type": "markdown",
   "metadata": {
    "run_control": {
     "breakpoint": false
    }
   },
   "source": [
    "###(b) Sum\n",
    "$(x_i, x_j) := k_1(x_i, x_j) + k_2(x_i, x_j)$ is a kernel"
   ]
  },
  {
   "cell_type": "markdown",
   "metadata": {
    "run_control": {
     "breakpoint": false
    }
   },
   "source": [
    "*TODO*"
   ]
  },
  {
   "cell_type": "markdown",
   "metadata": {
    "run_control": {
     "breakpoint": false
    }
   },
   "source": [
    "###(c) Linear combination\n",
    "For $w \\in \\mathbb{R}^d_+: k(x_i, x_j) := \\sum_{l=1}^d w_l \\cdot k_l(x_i, x_j)$ is a kernel."
   ]
  },
  {
   "cell_type": "markdown",
   "metadata": {
    "run_control": {
     "breakpoint": false
    }
   },
   "source": [
    "*TODO*"
   ]
  },
  {
   "cell_type": "markdown",
   "metadata": {
    "run_control": {
     "breakpoint": false
    }
   },
   "source": [
    "###(d) Product\n",
    "$k(x_i, x_j) := k_1(x_i, x_j) \\cdot k_2(x_i, x_j)$ is a kernel."
   ]
  },
  {
   "cell_type": "markdown",
   "metadata": {
    "run_control": {
     "breakpoint": false
    }
   },
   "source": [
    "*TODO*"
   ]
  },
  {
   "cell_type": "markdown",
   "metadata": {
    "collapsed": true,
    "run_control": {
     "breakpoint": false
    }
   },
   "source": [
    "###(e) Power\n",
    "For a $p \\in \\mathbb{N}_+ : k(x_i, x_j) := (k_1(x_i, x_j))^p$ is a kernel."
   ]
  },
  {
   "cell_type": "markdown",
   "metadata": {
    "run_control": {
     "breakpoint": false
    }
   },
   "source": [
    "*TODO*"
   ]
  },
  {
   "cell_type": "code",
   "execution_count": null,
   "metadata": {
    "collapsed": true,
    "run_control": {
     "breakpoint": false
    }
   },
   "outputs": [],
   "source": []
  }
 ],
 "metadata": {
  "kernelspec": {
   "display_name": "Python 3",
   "language": "python",
   "name": "python3"
  },
  "language_info": {
   "codemirror_mode": {
    "name": "ipython",
    "version": 3
   },
   "file_extension": ".py",
   "mimetype": "text/x-python",
   "name": "python",
   "nbconvert_exporter": "python",
   "pygments_lexer": "ipython3",
   "version": "3.4.3+"
  }
 },
 "nbformat": 4,
 "nbformat_minor": 0
}
