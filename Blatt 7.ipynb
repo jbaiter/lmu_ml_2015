{
 "cells": [
  {
   "cell_type": "markdown",
   "metadata": {},
   "source": [
    "# Exercise Sheet 7\n",
    "\n",
    "## Exercise 7-1: Multiple Choice\n",
    "\n",
    "Decide whether the following statements are true or false.\n"
   ]
  },
  {
   "cell_type": "markdown",
   "metadata": {
    "run_control": {
     "breakpoint": false
    }
   },
   "source": [
    "### (a)\n",
    "\n",
    "When rolling a fair die with numbers ∈ {1, ..., 6} 2 the events “the first result is\n",
    "even” and “the second result is odd” are independent."
   ]
  },
  {
   "cell_type": "markdown",
   "metadata": {
    "run_control": {
     "breakpoint": false
    }
   },
   "source": [
    "### (b)\n",
    "\n",
    "The expected value of a random variable is a non-linear function."
   ]
  },
  {
   "cell_type": "markdown",
   "metadata": {
    "run_control": {
     "breakpoint": false
    }
   },
   "source": [
    "### (c)\n",
    "\n",
    "The bias of an estimator is the squared difference between the true parameter and\n",
    "the expected value of the parameter estimate (averaged over many datasets)."
   ]
  },
  {
   "cell_type": "markdown",
   "metadata": {
    "run_control": {
     "breakpoint": false
    }
   },
   "source": [
    "### (d)\n",
    "\n",
    "Regularization reduces the training error of a least squares model."
   ]
  },
  {
   "cell_type": "markdown",
   "metadata": {
    "run_control": {
     "breakpoint": false
    }
   },
   "source": [
    "### (e)\n",
    "\n",
    "$k(x, y) = k_1 (x,y) \\cdot k_2 (x,y)$ is a legitimate kernel function for two legitimate\n",
    "kernel functions $k_1$, $k_2$."
   ]
  },
  {
   "cell_type": "markdown",
   "metadata": {
    "run_control": {
     "breakpoint": false
    }
   },
   "source": [
    "### (f)\n",
    "\n",
    "The product $tf_w \\cdot idf_w$ is always greater than $0$."
   ]
  },
  {
   "cell_type": "markdown",
   "metadata": {
    "run_control": {
     "breakpoint": false
    }
   },
   "source": [
    "### (g)\n",
    "\n",
    "The marginal distribution of a random variable $X$ can be computed from a joint\n",
    "distribution of $X$ and another random variable $Y$."
   ]
  },
  {
   "cell_type": "markdown",
   "metadata": {
    "run_control": {
     "breakpoint": false
    }
   },
   "source": [
    "### (h)\n",
    "\n",
    "A neural network can be used to linearly separate classes."
   ]
  },
  {
   "cell_type": "markdown",
   "metadata": {
    "run_control": {
     "breakpoint": false
    }
   },
   "source": [
    "### (i)\n",
    "\n",
    "It is possible to compute the solution to a linear regression problem in closed\n",
    "form."
   ]
  },
  {
   "cell_type": "markdown",
   "metadata": {
    "run_control": {
     "breakpoint": false
    }
   },
   "source": [
    "### (j)\n",
    "\n",
    "There exist homogeneous polynomial kernels with infinite-dimensional feature\n",
    "maps."
   ]
  },
  {
   "cell_type": "markdown",
   "metadata": {
    "run_control": {
     "breakpoint": false
    }
   },
   "source": [
    "## Exercise 7-2: The Perceptron\n",
    "\n",
    "Let $x \\in \\mathbb{R}^M$ be a data point. Let the output of the classification of a perceptron be defined as $sign (\\sum^M_{j=0} w_j x_j )$, where $x_0 = 1$ is constant.\n",
    "\n",
    "In the following figures, the black regions are to be mapped onto $\\hat{y} = 1$, the white regions are to be mapped\n",
    "onto $\\hat{y} = −1$. Which of the mappings are possible, considering the above defined perceptron of input dimension\n",
    "$M = 2$?"
   ]
  },
  {
   "cell_type": "markdown",
   "metadata": {
    "run_control": {
     "breakpoint": false
    }
   },
   "source": [
    "### (a)\n",
    "\n",
    "<img src=\"img/7-2-a.png\">"
   ]
  },
  {
   "cell_type": "markdown",
   "metadata": {
    "run_control": {
     "breakpoint": false
    }
   },
   "source": [
    "### (a)\n",
    "\n",
    "<img src=\"img/7-2-b.png\">"
   ]
  },
  {
   "cell_type": "markdown",
   "metadata": {
    "run_control": {
     "breakpoint": false
    }
   },
   "source": [
    "### (a)\n",
    "\n",
    "<img src=\"img/7-2-c.png\">"
   ]
  },
  {
   "cell_type": "markdown",
   "metadata": {
    "run_control": {
     "breakpoint": false
    }
   },
   "source": [
    "## Exercise 7-3: Convolutional Neural Networks\n",
    "\n",
    "In this exercise we address a convolutional neural network (CNN) with one-dimensional input. While two-\n",
    "dimensional CNNs can be used for example for grayscale images, one-dimensional CNNs could be used for\n",
    "time-series such as temperature or humidity readings. Concepts for the 1D-case are equivalent to 2D networks.\n",
    "We interpret data in our network as three-dimensional arrays where a row denotes a feature map, a column\n",
    "denotes a single dimension of the observation, and the depth of the array represents different observations. As\n",
    "we will only work with a single input vector, the depth will always be one.\n",
    "\n",
    "Let the following CNN be given:\n",
    "\n",
    "- Input I: Matrix of size $1 \\times 12 \\times 1$. We therefore have an input with twelve dimensions consisting of a single feature map.\n",
    "- First convolutional layer with filters $F^1_0 = (−1,0,1)$ and $F^1_1 = (1,0, − 1)$ that generates two output feature maps from a single input feature map. Use valid mode for convolutions.\n",
    "- Max-pooling layer with stride 2 and filter size 2. Note that max-pooling pools each feature map separately.\n",
    "- Convolutional layer with convolutional kernel $F^2_0 = ((−1,0,1),(1,0, − 1))$ of size $2 \\times 3 \\times 1$.\n",
    "- Fully connected layer that maps all inputs to two outputs. The first output is calculated as the negative sum of all its inputs, and the second layer is calculated as the positive sum of all its inputs.\n",
    "- Sigmoidal activation function"
   ]
  },
  {
   "cell_type": "markdown",
   "metadata": {
    "run_control": {
     "breakpoint": false
    }
   },
   "source": [
    "Calculate the response of the CNN for the two inputs (0,0,0,0,1,1,1,1,0,0,0,0) and (0,0,0,0,1,1,1,1,0,0,0,0)."
   ]
  },
  {
   "cell_type": "markdown",
   "metadata": {
    "collapsed": true,
    "run_control": {
     "breakpoint": false
    }
   },
   "source": [
    "<img src=\"img/7-3.png\">"
   ]
  }
 ],
 "metadata": {
  "kernelspec": {
   "display_name": "Python 2",
   "language": "python",
   "name": "python2"
  },
  "language_info": {
   "codemirror_mode": {
    "name": "ipython",
    "version": 2
   },
   "file_extension": ".py",
   "mimetype": "text/x-python",
   "name": "python",
   "nbconvert_exporter": "python",
   "pygments_lexer": "ipython2",
   "version": "2.7.6"
  }
 },
 "nbformat": 4,
 "nbformat_minor": 0
}
