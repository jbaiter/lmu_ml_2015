{
 "cells": [
  {
   "cell_type": "markdown",
   "metadata": {},
   "source": [
    "# Exercise Sheet 10\n",
    "\n",
    "## Exercise 10-1: PCA"
   ]
  },
  {
   "cell_type": "markdown",
   "metadata": {
    "run_control": {
     "breakpoint": false
    }
   },
   "source": [
    "### (a)\n",
    "\n",
    "Please describe what a PCA aims for and under what circumstances it is most helpful"
   ]
  },
  {
   "cell_type": "markdown",
   "metadata": {},
   "source": [
    "Principal Component Analysis is used to structure data and reducing its dimensionality.\n",
    "\"Rauschen\" kann vermindert werden."
   ]
  },
  {
   "cell_type": "markdown",
   "metadata": {
    "run_control": {
     "breakpoint": false
    }
   },
   "source": [
    "### (b)\n",
    "\n",
    "Which possibly negativ consequences might arise when applying PCA to a dataset of unknown structure?"
   ]
  },
  {
   "cell_type": "markdown",
   "metadata": {},
   "source": [
    "Die ermittelten Hauptachsen können durch Outlier verschoben bzw. gedreht werden"
   ]
  },
  {
   "cell_type": "markdown",
   "metadata": {
    "run_control": {
     "breakpoint": false
    }
   },
   "source": [
    "## Exercise 10-2: PCA\n",
    "\n",
    "Consider the $X \\in \\mathbb{R}^{MxN}$ matrix containing six data points $x_i in \\mathbb{R}^2$. Note that in contrast to the conventional representation, the patterns are held in columns here.\n",
    "\n",
    "dim 1| 1 | 2 | 3 | 5 | 6 | 7 \n",
    "-----|---|---|---|---|---|---\n",
    "dim 2| 0 | 0 | 0 | 6 | 6 | 6 \n",
    "\n",
    "Conduct a PCA on the given data. Please state the eigenvectors, eigenvalues, covariance matrix and visualize the data before and after the PCA."
   ]
  },
  {
   "cell_type": "markdown",
   "metadata": {},
   "source": [
    "$M_1 = \\frac{1}{6} 1+2+3+5+6+7 = 4$\n",
    "$M_2 = \\frac{1}{6} 0+0+0+6+6+6 = 3$\n",
    "1. Mittelwertbereinigung / Zentrierung\n",
    "$~X = (x_i - \\mu)_i = \\begin{bmatrix} -3 & -2 & -1 & 1 & 2 & 3 \\\\ -3 & -3 & -3 & 3 & 3 & 3\\end{bmatrix}$\n",
    "2. Kovarianzmatrix\n",
    "$E[(X-E(X))*(X-E(X))]$\n",
    "\n",
    "$cov(X) \\approx \\hat{\\Sigma} = \\frac{1}{N} \\sum_i ~x_i~x_i^T = \\frac{1}{N}~X~X^T = \\frac{1}{6} \\begin{bmatrix} -3 & -2 & -1 & 1 & 2 & 3 \\\\ -3 & -3 & -3 & 3 & 3 & 3\\end{bmatrix} \\begin{bmatrix}-3 & -3 \\\\ -2 & -3 \\\\ -1 & -3 \\\\ 1 & 3 \\\\ 2 & 3 \\\\ 3 & 3\\end{bmatrix} = \\farc{1}{6}\\begin{bmatrix}28 & 36 \\\\ 36 & 54\\end{bamtrix} = \\begin{bmatrix}\\frac{14}{3} & 6 \\\\ 6 & 9\\end{bamtrix}$\n",
    "\n"
   ]
  },
  {
   "cell_type": "markdown",
   "metadata": {
    "run_control": {
     "breakpoint": false
    }
   },
   "source": [
    "## Exercise 10-3: Eigenfaces\n",
    "\n",
    "The term _eigenface_ describes the eigenvectors of a normalized matrix."
   ]
  },
  {
   "cell_type": "markdown",
   "metadata": {},
   "source": [
    "### (a)\n",
    "Find the eigenfaces of the number dataset from the numberMatrix.RTable."
   ]
  },
  {
   "cell_type": "markdown",
   "metadata": {},
   "source": [
    "### (b)\n",
    "How many principal components are required to reconstruct the dataset? Are the eigenfaces sufficient for\n",
    "this purpose? Are all patterns reconstructable with equal quality?"
   ]
  },
  {
   "cell_type": "markdown",
   "metadata": {},
   "source": [
    "## Exercise 10-4: Soccer Ball PCA\n",
    "\n",
    "The Caltech 101 dataset consists of more than 9000 images which have each been assigned to one out of 102\n",
    "classes. We consider down-scaled images ((32 × 32)-thumbnails) taken from the classes soccer ball and\n",
    "faces easy."
   ]
  },
  {
   "cell_type": "markdown",
   "metadata": {},
   "source": [
    "### (a)\n",
    "Conduct a PCA on the 64 soccer ball images. Can the images be reconstrcted losslessly with only part of the principal components?"
   ]
  },
  {
   "cell_type": "markdown",
   "metadata": {},
   "source": [
    "### (b)\n",
    "Now consider the faces easy dataset, consisting of 435 image. Can this dataset be adequately reconstructed using the principal components from part a)?"
   ]
  },
  {
   "cell_type": "markdown",
   "metadata": {},
   "source": [
    "### (c)\n",
    "Now consider the dataset of part a) and the principal components of the dataset of part b). Does reconstructing the soccer balls from the faces’ components work?"
   ]
  }
 ],
 "metadata": {
  "kernelspec": {
   "display_name": "Python 2",
   "language": "python",
   "name": "python2"
  },
  "language_info": {
   "codemirror_mode": {
    "name": "ipython",
    "version": 2
   },
   "file_extension": ".py",
   "mimetype": "text/x-python",
   "name": "python",
   "nbconvert_exporter": "python",
   "pygments_lexer": "ipython2",
   "version": "2.7.6"
  }
 },
 "nbformat": 4,
 "nbformat_minor": 0
}
